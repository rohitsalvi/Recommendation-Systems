{
 "cells": [
  {
   "cell_type": "code",
   "execution_count": 6,
   "id": "385f6fe6",
   "metadata": {},
   "outputs": [],
   "source": [
    "import numpy as np\n",
    "import pandas as pd\n",
    "import seaborn as sns\n",
    "import matplotlib.pyplot as plt\n",
    "from collections import Counter\n",
    "from scipy.sparse import csr_matrix\n",
    "from pandas.api.types import is_numeric_dtype\n",
    "from sklearn.neighbors import NearestNeighbors\n",
    "from sklearn.feature_extraction import DictVectorizer\n",
    "from sklearn.metrics.pairwise import cosine_similarity\n",
    "from sklearn.feature_extraction.text import TfidfVectorizer\n",
    "\n",
    "import warnings\n",
    "warnings.filterwarnings(\"ignore\")"
   ]
  },
  {
   "cell_type": "code",
   "execution_count": 9,
   "id": "dfdf01a0",
   "metadata": {},
   "outputs": [],
   "source": [
    "books=pd.read_csv(\"C:/Users/ROHIT/anaconda3/projects/book.csv\", delimiter=';', error_bad_lines=False, encoding='ISO-8859-1', warn_bad_lines=False)"
   ]
  },
  {
   "cell_type": "code",
   "execution_count": 18,
   "id": "11128fd3",
   "metadata": {},
   "outputs": [
    {
     "data": {
      "text/html": [
       "<div>\n",
       "<style scoped>\n",
       "    .dataframe tbody tr th:only-of-type {\n",
       "        vertical-align: middle;\n",
       "    }\n",
       "\n",
       "    .dataframe tbody tr th {\n",
       "        vertical-align: top;\n",
       "    }\n",
       "\n",
       "    .dataframe thead th {\n",
       "        text-align: right;\n",
       "    }\n",
       "</style>\n",
       "<table border=\"1\" class=\"dataframe\">\n",
       "  <thead>\n",
       "    <tr style=\"text-align: right;\">\n",
       "      <th></th>\n",
       "      <th>,\"User.ID\",\"Book.Title\",\"Book.Rating\"</th>\n",
       "    </tr>\n",
       "  </thead>\n",
       "  <tbody>\n",
       "    <tr>\n",
       "      <th>0</th>\n",
       "      <td>1,276726,\"Classical Mythology\",5</td>\n",
       "    </tr>\n",
       "    <tr>\n",
       "      <th>1</th>\n",
       "      <td>2,276729,\"Clara Callan\",3</td>\n",
       "    </tr>\n",
       "    <tr>\n",
       "      <th>2</th>\n",
       "      <td>3,276729,\"Decision in Normandy\",6</td>\n",
       "    </tr>\n",
       "    <tr>\n",
       "      <th>3</th>\n",
       "      <td>4,276736,\"Flu: The Story of the Great Influenz...</td>\n",
       "    </tr>\n",
       "    <tr>\n",
       "      <th>4</th>\n",
       "      <td>5,276737,\"The Mummies of Urumchi\",6</td>\n",
       "    </tr>\n",
       "    <tr>\n",
       "      <th>...</th>\n",
       "      <td>...</td>\n",
       "    </tr>\n",
       "    <tr>\n",
       "      <th>9833</th>\n",
       "      <td>9996,162121,\"American Fried: Adventures of a H...</td>\n",
       "    </tr>\n",
       "    <tr>\n",
       "      <th>9834</th>\n",
       "      <td>9997,162121,\"Cannibal In Manhattan\",9</td>\n",
       "    </tr>\n",
       "    <tr>\n",
       "      <th>9835</th>\n",
       "      <td>9998,162121,\"How to Flirt: A Practical Guide\",7</td>\n",
       "    </tr>\n",
       "    <tr>\n",
       "      <th>9836</th>\n",
       "      <td>9999,162121,\"Twilight\",8</td>\n",
       "    </tr>\n",
       "    <tr>\n",
       "      <th>9837</th>\n",
       "      <td>10000,162129,\"Kids Say the Darndest Things\",6</td>\n",
       "    </tr>\n",
       "  </tbody>\n",
       "</table>\n",
       "<p>9838 rows × 1 columns</p>\n",
       "</div>"
      ],
      "text/plain": [
       "                  ,\"User.ID\",\"Book.Title\",\"Book.Rating\"\n",
       "0                      1,276726,\"Classical Mythology\",5\n",
       "1                             2,276729,\"Clara Callan\",3\n",
       "2                     3,276729,\"Decision in Normandy\",6\n",
       "3     4,276736,\"Flu: The Story of the Great Influenz...\n",
       "4                   5,276737,\"The Mummies of Urumchi\",6\n",
       "...                                                 ...\n",
       "9833  9996,162121,\"American Fried: Adventures of a H...\n",
       "9834              9997,162121,\"Cannibal In Manhattan\",9\n",
       "9835    9998,162121,\"How to Flirt: A Practical Guide\",7\n",
       "9836                           9999,162121,\"Twilight\",8\n",
       "9837      10000,162129,\"Kids Say the Darndest Things\",6\n",
       "\n",
       "[9838 rows x 1 columns]"
      ]
     },
     "execution_count": 18,
     "metadata": {},
     "output_type": "execute_result"
    }
   ],
   "source": [
    "books"
   ]
  },
  {
   "cell_type": "code",
   "execution_count": null,
   "id": "a34e6f93",
   "metadata": {},
   "outputs": [],
   "source": []
  }
 ],
 "metadata": {
  "kernelspec": {
   "display_name": "Python 3",
   "language": "python",
   "name": "python3"
  },
  "language_info": {
   "codemirror_mode": {
    "name": "ipython",
    "version": 3
   },
   "file_extension": ".py",
   "mimetype": "text/x-python",
   "name": "python",
   "nbconvert_exporter": "python",
   "pygments_lexer": "ipython3",
   "version": "3.8.11"
  }
 },
 "nbformat": 4,
 "nbformat_minor": 5
}
